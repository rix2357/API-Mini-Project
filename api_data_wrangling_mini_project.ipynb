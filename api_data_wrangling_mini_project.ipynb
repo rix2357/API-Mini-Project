{
 "cells": [
  {
   "cell_type": "markdown",
   "metadata": {},
   "source": [
    "This exercise will require you to pull some data from the Qunadl API. Qaundl is currently the most widely used aggregator of financial market data."
   ]
  },
  {
   "cell_type": "markdown",
   "metadata": {},
   "source": [
    "As a first step, you will need to register a free account on the http://www.quandl.com website."
   ]
  },
  {
   "cell_type": "markdown",
   "metadata": {},
   "source": [
    "After you register, you will be provided with a unique API key, that you should store:"
   ]
  },
  {
   "cell_type": "code",
   "execution_count": 1,
   "metadata": {
    "collapsed": true
   },
   "outputs": [],
   "source": [
    "# Store the API key as a string - according to PEP8, constants are always named in all upper case\n",
    "API_KEY = 'UNWATzhUuhJErzkJD27E'"
   ]
  },
  {
   "cell_type": "markdown",
   "metadata": {},
   "source": [
    "Qaundl has a large number of data sources, but, unfortunately, most of them require a Premium subscription. Still, there are also a good number of free datasets."
   ]
  },
  {
   "cell_type": "markdown",
   "metadata": {},
   "source": [
    "For this mini project, we will focus on equities data from the Frankfurt Stock Exhange (FSE), which is available for free. We'll try and analyze the stock prices of a company called Carl Zeiss Meditec, which manufactures tools for eye examinations, as well as medical lasers for laser eye surgery: https://www.zeiss.com/meditec/int/home.html. The company is listed under the stock ticker AFX_X."
   ]
  },
  {
   "cell_type": "markdown",
   "metadata": {},
   "source": [
    "You can find the detailed Quandl API instructions here: https://docs.quandl.com/docs/time-series"
   ]
  },
  {
   "cell_type": "markdown",
   "metadata": {},
   "source": [
    "While there is a dedicated Python package for connecting to the Quandl API, we would prefer that you use the *requests* package, which can be easily downloaded using *pip* or *conda*. You can find the documentation for the package here: http://docs.python-requests.org/en/master/ "
   ]
  },
  {
   "cell_type": "markdown",
   "metadata": {},
   "source": [
    "Finally, apart from the *requests* package, you are encouraged to not use any third party Python packages, such as *pandas*, and instead focus on what's available in the Python Standard Library (the *collections* module might come in handy: https://pymotw.com/3/collections/ ).\n",
    "Also, since you won't have access to DataFrames, you are encouraged to us Python's native data structures - preferably dictionaries, though some questions can also be answered using lists.\n",
    "You can read more on these data structures here: https://docs.python.org/3/tutorial/datastructures.html"
   ]
  },
  {
   "cell_type": "markdown",
   "metadata": {},
   "source": [
    "Keep in mind that the JSON responses you will be getting from the API map almost one-to-one to Python's dictionaries. Unfortunately, they can be very nested, so make sure you read up on indexing dictionaries in the documentation provided above."
   ]
  },
  {
   "cell_type": "code",
   "execution_count": 2,
   "metadata": {
    "collapsed": true
   },
   "outputs": [],
   "source": [
    "# First, import the relevant modules\n",
    "import requests\n",
    "import collections\n",
    "import json\n"
   ]
  },
  {
   "cell_type": "code",
   "execution_count": 3,
   "metadata": {
    "collapsed": true
   },
   "outputs": [
    {
     "output_type": "stream",
     "name": "stdout",
     "text": [
      "https://www.quandl.com/api/v3/datasets/FSE/AFX_X/data.json?start_date=2017-04-13&end_date=2017-04-18&key=UNWATzhUuhJErzkJD27E\n"
     ]
    }
   ],
   "source": [
    "# Now, call the Quandl API and pull out a small sample of the data (only one day) to get a glimpse\n",
    "# into the JSON structure that will be returned\n",
    "params = dict(start_date='2017-04-13', end_date='2017-04-18', key=API_KEY)\n",
    "URL = \"https://www.quandl.com/api/v3/datasets/FSE/AFX_X/data.json\"\n",
    "res = requests.get(URL, params=params)\n",
    "print(res.url)\n"
   ]
  },
  {
   "cell_type": "code",
   "execution_count": 4,
   "metadata": {},
   "outputs": [],
   "source": [
    "j = res.json()"
   ]
  },
  {
   "cell_type": "code",
   "execution_count": 5,
   "metadata": {},
   "outputs": [
    {
     "output_type": "stream",
     "name": "stdout",
     "text": [
      "<class 'dict'>\n"
     ]
    }
   ],
   "source": [
    "print(type(j))"
   ]
  },
  {
   "cell_type": "code",
   "execution_count": 6,
   "metadata": {},
   "outputs": [
    {
     "output_type": "stream",
     "name": "stdout",
     "text": [
      "{\n  \"dataset_data\": {\n    \"limit\": null,\n    \"transform\": null,\n    \"column_index\": null,\n    \"column_names\": [\n      \"Date\",\n      \"Open\",\n      \"High\",\n      \"Low\",\n      \"Close\",\n      \"Change\",\n      \"Traded Volume\",\n      \"Turnover\",\n      \"Last Price of the Day\",\n      \"Daily Traded Units\",\n      \"Daily Turnover\"\n    ],\n    \"start_date\": \"2017-04-13\",\n    \"end_date\": \"2017-04-18\",\n    \"frequency\": \"daily\",\n    \"data\": [\n      [\n        \"2017-04-18\",\n        42.24,\n        42.4,\n        41.54,\n        42.0,\n        null,\n        133057.0,\n        5587565.0,\n        null,\n        null,\n        null\n      ],\n      [\n        \"2017-04-17\",\n        null,\n        42.48,\n        41.985,\n        42.2,\n        null,\n        88416.0,\n        3734717.0,\n        null,\n        null,\n        null\n      ],\n      [\n        \"2017-04-14\",\n        null,\n        42.48,\n        41.985,\n        42.2,\n        null,\n        88416.0,\n        3734717.0,\n        null,\n        null,\n        null\n      ],\n      [\n        \"2017-04-13\",\n        42.06,\n        42.48,\n        41.99,\n        42.2,\n        null,\n        88416.0,\n        3734717.0,\n        null,\n        null,\n        null\n      ]\n    ],\n    \"collapse\": null,\n    \"order\": null\n  }\n}\n"
     ]
    }
   ],
   "source": [
    "print(json.dumps(j, indent = 2))"
   ]
  },
  {
   "cell_type": "code",
   "execution_count": 7,
   "metadata": {
    "collapsed": true
   },
   "outputs": [
    {
     "output_type": "stream",
     "name": "stdout",
     "text": [
      "{\n  \"dataset_data\": {\n    \"limit\": null,\n    \"transform\": null,\n    \"column_index\": null,\n    \"column_names\": [\n      \"Date\",\n      \"Open\",\n      \"High\",\n      \"Low\",\n      \"Close\",\n      \"Change\",\n      \"Traded Volume\",\n      \"Turnover\",\n      \"Last Price of the Day\",\n      \"Daily Traded Units\",\n      \"Daily Turnover\"\n    ],\n    \"start_date\": \"2017-04-13\",\n    \"end_date\": \"2017-04-18\",\n    \"frequency\": \"daily\",\n    \"data\": [\n      [\n        \"2017-04-18\",\n        42.24,\n        42.4,\n        41.54,\n        42.0,\n        null,\n        133057.0,\n        5587565.0,\n        null,\n        null,\n        null\n      ],\n      [\n        \"2017-04-17\",\n        null,\n        42.48,\n        41.985,\n        42.2,\n        null,\n        88416.0,\n        3734717.0,\n        null,\n        null,\n        null\n      ],\n      [\n        \"2017-04-14\",\n        null,\n        42.48,\n        41.985,\n        42.2,\n        null,\n        88416.0,\n        3734717.0,\n        null,\n        null,\n        null\n      ],\n      [\n        \"2017-04-13\",\n        42.06,\n        42.48,\n        41.99,\n        42.2,\n        null,\n        88416.0,\n        3734717.0,\n        null,\n        null,\n        null\n      ]\n    ],\n    \"collapse\": null,\n    \"order\": null\n  }\n}\n"
     ]
    }
   ],
   "source": [
    "# Inspect the JSON structure of the object you created, and take note of how nested it is,\n",
    "# as well as the overall structure\n",
    "print(json.dumps(j, indent = 2))"
   ]
  },
  {
   "cell_type": "code",
   "execution_count": 8,
   "metadata": {},
   "outputs": [
    {
     "output_type": "stream",
     "name": "stdout",
     "text": [
      "['Date', 'Open', 'High', 'Low', 'Close', 'Change', 'Traded Volume', 'Turnover', 'Last Price of the Day', 'Daily Traded Units', 'Daily Turnover']\n"
     ]
    }
   ],
   "source": [
    "column_names = j['dataset_data']['column_names']\n",
    "print(column_names)"
   ]
  },
  {
   "cell_type": "markdown",
   "metadata": {},
   "source": [
    "These are your tasks for this mini project:\n",
    "\n",
    "1. Collect data from the Franfurt Stock Exchange, for the ticker AFX_X, for the whole year 2017 (keep in mind that the date format is YYYY-MM-DD).\n",
    "2. Convert the returned JSON object into a Python dictionary.\n",
    "3. Calculate what the highest and lowest opening prices were for the stock in this period.\n",
    "4. What was the largest change in any one day (based on High and Low price)?\n",
    "5. What was the largest change between any two days (based on Closing Price)?\n",
    "6. What was the average daily trading volume during this year?\n",
    "7. (Optional) What was the median trading volume during this year. (Note: you may need to implement your own function for calculating the median.)"
   ]
  },
  {
   "source": [
    "Task 1\n",
    "\n",
    "1. Collect data from the Franfurt Stock Exchange, for the ticker AFX_X, for the whole year 2017 (keep in mind that the date format is YYYY-MM-DD)."
   ],
   "cell_type": "markdown",
   "metadata": {
    "collapsed": true
   }
  },
  {
   "cell_type": "code",
   "execution_count": 9,
   "metadata": {},
   "outputs": [
    {
     "output_type": "stream",
     "name": "stdout",
     "text": [
      "https://www.quandl.com/api/v3/datasets/FSE/AFX_X/data.json?start_date=2017-01-01&end_date=2017-12-31&key=UNWATzhUuhJErzkJD27E\n"
     ]
    }
   ],
   "source": [
    "params = dict(start_date='2017-01-01', end_date='2017-12-31', key=API_KEY)\n",
    "URL = \"https://www.quandl.com/api/v3/datasets/FSE/AFX_X/data.json\"\n",
    "res = requests.get(URL, params=params)\n",
    "print(res.url)"
   ]
  },
  {
   "source": [
    "Task 2\n",
    "\n",
    "2. Convert the returned JSON object into a Python dictionary."
   ],
   "cell_type": "markdown",
   "metadata": {}
  },
  {
   "cell_type": "code",
   "execution_count": 10,
   "metadata": {
    "tags": []
   },
   "outputs": [],
   "source": [
    "j = res.json()\n",
    "# test for output, need to turn off if getting large amount of data\n",
    "#print(j)"
   ]
  },
  {
   "cell_type": "code",
   "execution_count": 11,
   "metadata": {},
   "outputs": [
    {
     "output_type": "stream",
     "name": "stdout",
     "text": [
      "<class 'dict'>\n"
     ]
    }
   ],
   "source": [
    "print(type(j))"
   ]
  },
  {
   "source": [
    "Task 3\n",
    "\n",
    "3. Calculate what the highest and lowest opening prices were for the stock in this period.\n"
   ],
   "cell_type": "markdown",
   "metadata": {}
  },
  {
   "cell_type": "code",
   "execution_count": 12,
   "metadata": {},
   "outputs": [],
   "source": [
    "data = j['dataset_data']['data']\n",
    "data_dict = {d[0]: d[1:] for d in data}\n",
    "#data_dict.keys()"
   ]
  },
  {
   "cell_type": "code",
   "execution_count": 13,
   "metadata": {},
   "outputs": [],
   "source": [
    "data_dict_sorted = collections.OrderedDict(sorted(data_dict.items()))\n",
    "#data_dict_sorted"
   ]
  },
  {
   "cell_type": "code",
   "execution_count": 14,
   "metadata": {},
   "outputs": [],
   "source": [
    "dates_index = list(data_dict_sorted.keys())\n",
    "#dates_index"
   ]
  },
  {
   "cell_type": "code",
   "execution_count": 15,
   "metadata": {},
   "outputs": [
    {
     "output_type": "stream",
     "name": "stdout",
     "text": [
      "Dates with missing opening values!!!!! :\n2017-04-14\n2017-04-17\n2017-05-01\n\n"
     ]
    }
   ],
   "source": [
    "# create opening prices list using for loop\n",
    "opening_prices_for_loop = []\n",
    "for key, value in data_dict_sorted.items():\n",
    "# ************was trying to print out the date where there was a missing opening price, found in index 74, 75, and 85, not sure why the below if test for None doesn't work************\n",
    "    if value == None:\n",
    "        print(\"key: {} and value: {}\".format(key, value))\n",
    "    opening_prices_for_loop.append(value[0])\n",
    "# using variable inspector printing list of dates with missing opening values\n",
    "print(\"Dates with missing opening values!!!!! :\\n{}\\n{}\\n{}\\n\".format(dates_index[74], dates_index[75], dates_index[85]))"
   ]
  },
  {
   "source": [
    "# using list comprehension to create opening_prices list\n",
    "\n",
    "opening_prices = [value[0] for value in data_dict_sorted.values()]\n",
    "#opening_prices\n"
   ],
   "cell_type": "code",
   "metadata": {},
   "execution_count": 16,
   "outputs": []
  },
  {
   "cell_type": "code",
   "execution_count": 17,
   "metadata": {},
   "outputs": [
    {
     "output_type": "stream",
     "name": "stdout",
     "text": [
      "Highest Opening Price: 53.11\nLowest Opening Price: 34.0\n"
     ]
    }
   ],
   "source": [
    "# had to use filter to drop the null values in the missing opening prices list\n",
    "highest_opening_price = max(filter(None,opening_prices))\n",
    "lowest_opening_price = min(filter(None, opening_prices))\n",
    "print(\"Highest Opening Price: {}\\nLowest Opening Price: {}\".format(highest_opening_price, lowest_opening_price))"
   ]
  },
  {
   "source": [
    "Task 4\n",
    "\n",
    "4. What was the largest change in any one day (based on High and Low price)?\n"
   ],
   "cell_type": "markdown",
   "metadata": {}
  },
  {
   "cell_type": "code",
   "execution_count": 18,
   "metadata": {},
   "outputs": [
    {
     "output_type": "stream",
     "name": "stdout",
     "text": [
      "Largest Change in one Day (High/Low): 2.8100000000000023\n"
     ]
    }
   ],
   "source": [
    "daily_high_list = [value[1] for value in data_dict_sorted.values()]\n",
    "daily_low_list = [value[2] for value in data_dict_sorted.values()]\n",
    "daily_high_low_change = [x - y for x, y in zip(daily_high_list, daily_low_list)]\n",
    "daily_high_low_max_change = max(daily_high_low_change)\n",
    "print(\"Largest Change in one Day (High/Low): {}\".format(daily_high_low_max_change))"
   ]
  },
  {
   "source": [
    "Task 5\n",
    "\n",
    "5. What was the largest change between any two days (based on Closing Price)?\n"
   ],
   "cell_type": "markdown",
   "metadata": {}
  },
  {
   "cell_type": "code",
   "execution_count": 19,
   "metadata": {},
   "outputs": [],
   "source": [
    "closing_price_list = [value[3] for value in data_dict_sorted.values()]\n",
    "closing_price_change = []\n",
    "# **********is there a way to do it using list comprehension?****\n",
    "for i in range(1, len(closing_price_list)):\n",
    "    closing_price_change.append(abs(closing_price_list[i]-closing_price_list[i-1]))\n",
    "#closing_price_change\n"
   ]
  },
  {
   "cell_type": "code",
   "execution_count": 20,
   "metadata": {},
   "outputs": [
    {
     "output_type": "stream",
     "name": "stdout",
     "text": [
      "Largest day to day closing price change: 2.559999999999995\nThis happened between 2017-08-08 and 2017-08-09: \n"
     ]
    }
   ],
   "source": [
    "max_closing_price_change = max(closing_price_change)\n",
    "max_closing_price_change_index = closing_price_change.index(max_closing_price_change)\n",
    "print(\"Largest day to day closing price change: {}\\nThis happened between {} and {}: \".format(max_closing_price_change, dates_index[max_closing_price_change_index], dates_index[max_closing_price_change_index+1]))"
   ]
  },
  {
   "source": [
    "Task 6\n",
    "\n",
    "6. What was the average daily trading volume during this year?"
   ],
   "cell_type": "markdown",
   "metadata": {}
  },
  {
   "cell_type": "code",
   "execution_count": 21,
   "metadata": {},
   "outputs": [
    {
     "output_type": "stream",
     "name": "stdout",
     "text": [
      "Traded Volume Average: 89124.33725490196\n"
     ]
    }
   ],
   "source": [
    "traded_volume_list = [value[5] for value in data_dict_sorted.values()]\n",
    "traded_volume_average = sum(traded_volume_list)/len(traded_volume_list)\n",
    "print(\"Traded Volume Average: {}\".format(traded_volume_average))"
   ]
  },
  {
   "source": [
    "Task 7\r\n",
    "\r\n",
    "7. (Optional) What was the median trading volume during this year. (Note: you may need to implement your own function for calculating the median.)"
   ],
   "cell_type": "markdown",
   "metadata": {}
  },
  {
   "cell_type": "code",
   "execution_count": 22,
   "metadata": {},
   "outputs": [],
   "source": [
    "sorted_traded_volume_list = sorted(traded_volume_list)\n",
    "#sorted_traded_volume_list"
   ]
  },
  {
   "cell_type": "code",
   "execution_count": 23,
   "metadata": {},
   "outputs": [
    {
     "output_type": "stream",
     "name": "stdout",
     "text": [
      "Traded Volume Median: 76286.0\n"
     ]
    }
   ],
   "source": [
    "traded_volume_list_length = len(traded_volume_list)\n",
    "if traded_volume_list_length % 2 == 0:\n",
    "    traded_volume_median = (sorted_traded_volume_list[int(traded_volume_list_length/2)] + sorted_traded_volume_list[int((traded_volume_list_length/2)-1)])/2\n",
    "else:\n",
    "    traded_volume_median = sorted_traded_volume_list[int(traded_volume_list_length/2)]\n",
    "print(\"Traded Volume Median: {}\".format(traded_volume_median))"
   ]
  }
 ],
 "metadata": {
  "kernelspec": {
   "name": "python389jvsc74a57bd0267bb64c5311e036ab8bfd82480b0ac612e984131740b1d42f04dbcc686df306",
   "display_name": "Python 3.8.9 64-bit ('API_Mini-Project-4aVcEaoy': virtualenvwrapper)"
  },
  "language_info": {
   "codemirror_mode": {
    "name": "ipython",
    "version": 2
   },
   "file_extension": ".py",
   "mimetype": "text/x-python",
   "name": "python",
   "nbconvert_exporter": "python",
   "pygments_lexer": "ipython2",
   "version": "3.8.9"
  },
  "metadata": {
   "interpreter": {
    "hash": "267bb64c5311e036ab8bfd82480b0ac612e984131740b1d42f04dbcc686df306"
   }
  }
 },
 "nbformat": 4,
 "nbformat_minor": 2
}